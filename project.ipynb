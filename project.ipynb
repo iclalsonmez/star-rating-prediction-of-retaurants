{
 "cells": [
  {
   "cell_type": "code",
   "execution_count": 1,
   "metadata": {},
   "outputs": [],
   "source": [
    "import numpy as np \n",
    "import pandas as pd \n",
    "import seaborn as sns\n",
    "import matplotlib.pyplot as plt\n",
    "from sklearn import preprocessing\n",
    "import sklearn\n",
    "import warnings\n",
    "\n",
    "warnings.filterwarnings('ignore')\n",
    "\n",
    "colnames = ['Restaurant','Food_Types','Star_Rating','Location','Deliver_Time_Min','Speed_d_t','Minimum_Amount','mPrice_Distance','Discounted','Super_Restaurant','Vegetarian','Vegan','Gluten_Free','Distance_From_Universiy_m']\n",
    "\n",
    "df = pd.read_csv('Data.csv', header=None, skiprows=1, names=colnames)"
   ]
  },
  {
   "cell_type": "code",
   "execution_count": 2,
   "metadata": {},
   "outputs": [
    {
     "data": {
      "text/html": [
       "<div>\n",
       "<style scoped>\n",
       "    .dataframe tbody tr th:only-of-type {\n",
       "        vertical-align: middle;\n",
       "    }\n",
       "\n",
       "    .dataframe tbody tr th {\n",
       "        vertical-align: top;\n",
       "    }\n",
       "\n",
       "    .dataframe thead th {\n",
       "        text-align: right;\n",
       "    }\n",
       "</style>\n",
       "<table border=\"1\" class=\"dataframe\">\n",
       "  <thead>\n",
       "    <tr style=\"text-align: right;\">\n",
       "      <th></th>\n",
       "      <th>Restaurant</th>\n",
       "      <th>Food_Types</th>\n",
       "      <th>Star_Rating</th>\n",
       "      <th>Location</th>\n",
       "      <th>Deliver_Time_Min</th>\n",
       "      <th>Speed_d_t</th>\n",
       "      <th>Minimum_Amount</th>\n",
       "      <th>mPrice_Distance</th>\n",
       "      <th>Discounted</th>\n",
       "      <th>Super_Restaurant</th>\n",
       "      <th>Vegetarian</th>\n",
       "      <th>Vegan</th>\n",
       "      <th>Gluten_Free</th>\n",
       "      <th>Distance_From_Universiy_m</th>\n",
       "    </tr>\n",
       "  </thead>\n",
       "  <tbody>\n",
       "    <tr>\n",
       "      <th>0</th>\n",
       "      <td>McDonald's</td>\n",
       "      <td>Burger</td>\n",
       "      <td>8.4</td>\n",
       "      <td>Sinanpaşa</td>\n",
       "      <td>30.0</td>\n",
       "      <td>30</td>\n",
       "      <td>48.90</td>\n",
       "      <td>0.05</td>\n",
       "      <td>No</td>\n",
       "      <td>No</td>\n",
       "      <td>No</td>\n",
       "      <td>No</td>\n",
       "      <td>No</td>\n",
       "      <td>900.0</td>\n",
       "    </tr>\n",
       "    <tr>\n",
       "      <th>1</th>\n",
       "      <td>KFC</td>\n",
       "      <td>Chicken</td>\n",
       "      <td>8.3</td>\n",
       "      <td>Cihannüma</td>\n",
       "      <td>30.0</td>\n",
       "      <td>25</td>\n",
       "      <td>29.99</td>\n",
       "      <td>0.04</td>\n",
       "      <td>No</td>\n",
       "      <td>No</td>\n",
       "      <td>Yes</td>\n",
       "      <td>No</td>\n",
       "      <td>No</td>\n",
       "      <td>750.0</td>\n",
       "    </tr>\n",
       "    <tr>\n",
       "      <th>2</th>\n",
       "      <td>Adile Sultan Ev Yemekleri</td>\n",
       "      <td>Turkish Cuisine</td>\n",
       "      <td>9.3</td>\n",
       "      <td>Gayrettepe</td>\n",
       "      <td>35.0</td>\n",
       "      <td>62.8571428571429</td>\n",
       "      <td>40.99</td>\n",
       "      <td>0.02</td>\n",
       "      <td>Yes</td>\n",
       "      <td>No</td>\n",
       "      <td>Yes</td>\n",
       "      <td>No</td>\n",
       "      <td>No</td>\n",
       "      <td>2200.0</td>\n",
       "    </tr>\n",
       "    <tr>\n",
       "      <th>3</th>\n",
       "      <td>Burger King</td>\n",
       "      <td>Burger</td>\n",
       "      <td>8.6</td>\n",
       "      <td>Cihannüma</td>\n",
       "      <td>30.0</td>\n",
       "      <td>26.6666666666667</td>\n",
       "      <td>49.00</td>\n",
       "      <td>0.06</td>\n",
       "      <td>Yes</td>\n",
       "      <td>No</td>\n",
       "      <td>Yes</td>\n",
       "      <td>No</td>\n",
       "      <td>No</td>\n",
       "      <td>800.0</td>\n",
       "    </tr>\n",
       "    <tr>\n",
       "      <th>4</th>\n",
       "      <td>Etibeyaz Döner</td>\n",
       "      <td>Turkish Cuisine</td>\n",
       "      <td>8.9</td>\n",
       "      <td>Sinanpaşa</td>\n",
       "      <td>30.0</td>\n",
       "      <td>36.6666666666667</td>\n",
       "      <td>40.00</td>\n",
       "      <td>0.04</td>\n",
       "      <td>Yes</td>\n",
       "      <td>Yes</td>\n",
       "      <td>No</td>\n",
       "      <td>No</td>\n",
       "      <td>No</td>\n",
       "      <td>1100.0</td>\n",
       "    </tr>\n",
       "    <tr>\n",
       "      <th>...</th>\n",
       "      <td>...</td>\n",
       "      <td>...</td>\n",
       "      <td>...</td>\n",
       "      <td>...</td>\n",
       "      <td>...</td>\n",
       "      <td>...</td>\n",
       "      <td>...</td>\n",
       "      <td>...</td>\n",
       "      <td>...</td>\n",
       "      <td>...</td>\n",
       "      <td>...</td>\n",
       "      <td>...</td>\n",
       "      <td>...</td>\n",
       "      <td>...</td>\n",
       "    </tr>\n",
       "    <tr>\n",
       "      <th>1048568</th>\n",
       "      <td>NaN</td>\n",
       "      <td>NaN</td>\n",
       "      <td>NaN</td>\n",
       "      <td>NaN</td>\n",
       "      <td>NaN</td>\n",
       "      <td>#DIV/0!</td>\n",
       "      <td>NaN</td>\n",
       "      <td>#DIV/0!</td>\n",
       "      <td>NaN</td>\n",
       "      <td>NaN</td>\n",
       "      <td>NaN</td>\n",
       "      <td>NaN</td>\n",
       "      <td>NaN</td>\n",
       "      <td>NaN</td>\n",
       "    </tr>\n",
       "    <tr>\n",
       "      <th>1048569</th>\n",
       "      <td>NaN</td>\n",
       "      <td>NaN</td>\n",
       "      <td>NaN</td>\n",
       "      <td>NaN</td>\n",
       "      <td>NaN</td>\n",
       "      <td>#DIV/0!</td>\n",
       "      <td>NaN</td>\n",
       "      <td>#DIV/0!</td>\n",
       "      <td>NaN</td>\n",
       "      <td>NaN</td>\n",
       "      <td>NaN</td>\n",
       "      <td>NaN</td>\n",
       "      <td>NaN</td>\n",
       "      <td>NaN</td>\n",
       "    </tr>\n",
       "    <tr>\n",
       "      <th>1048570</th>\n",
       "      <td>NaN</td>\n",
       "      <td>NaN</td>\n",
       "      <td>NaN</td>\n",
       "      <td>NaN</td>\n",
       "      <td>NaN</td>\n",
       "      <td>#DIV/0!</td>\n",
       "      <td>NaN</td>\n",
       "      <td>#DIV/0!</td>\n",
       "      <td>NaN</td>\n",
       "      <td>NaN</td>\n",
       "      <td>NaN</td>\n",
       "      <td>NaN</td>\n",
       "      <td>NaN</td>\n",
       "      <td>NaN</td>\n",
       "    </tr>\n",
       "    <tr>\n",
       "      <th>1048571</th>\n",
       "      <td>NaN</td>\n",
       "      <td>NaN</td>\n",
       "      <td>NaN</td>\n",
       "      <td>NaN</td>\n",
       "      <td>NaN</td>\n",
       "      <td>#DIV/0!</td>\n",
       "      <td>NaN</td>\n",
       "      <td>#DIV/0!</td>\n",
       "      <td>NaN</td>\n",
       "      <td>NaN</td>\n",
       "      <td>NaN</td>\n",
       "      <td>NaN</td>\n",
       "      <td>NaN</td>\n",
       "      <td>NaN</td>\n",
       "    </tr>\n",
       "    <tr>\n",
       "      <th>1048572</th>\n",
       "      <td>NaN</td>\n",
       "      <td>NaN</td>\n",
       "      <td>NaN</td>\n",
       "      <td>NaN</td>\n",
       "      <td>NaN</td>\n",
       "      <td>#DIV/0!</td>\n",
       "      <td>NaN</td>\n",
       "      <td>#DIV/0!</td>\n",
       "      <td>NaN</td>\n",
       "      <td>NaN</td>\n",
       "      <td>NaN</td>\n",
       "      <td>NaN</td>\n",
       "      <td>NaN</td>\n",
       "      <td>NaN</td>\n",
       "    </tr>\n",
       "  </tbody>\n",
       "</table>\n",
       "<p>1048573 rows × 14 columns</p>\n",
       "</div>"
      ],
      "text/plain": [
       "                        Restaurant       Food_Types  Star_Rating    Location  \\\n",
       "0                       McDonald's           Burger          8.4   Sinanpaşa   \n",
       "1                              KFC          Chicken          8.3   Cihannüma   \n",
       "2        Adile Sultan Ev Yemekleri  Turkish Cuisine          9.3  Gayrettepe   \n",
       "3                      Burger King           Burger          8.6   Cihannüma   \n",
       "4                   Etibeyaz Döner  Turkish Cuisine          8.9   Sinanpaşa   \n",
       "...                            ...              ...          ...         ...   \n",
       "1048568                        NaN              NaN          NaN         NaN   \n",
       "1048569                        NaN              NaN          NaN         NaN   \n",
       "1048570                        NaN              NaN          NaN         NaN   \n",
       "1048571                        NaN              NaN          NaN         NaN   \n",
       "1048572                        NaN              NaN          NaN         NaN   \n",
       "\n",
       "         Deliver_Time_Min         Speed_d_t  Minimum_Amount mPrice_Distance  \\\n",
       "0                    30.0                30           48.90            0.05   \n",
       "1                    30.0                25           29.99            0.04   \n",
       "2                    35.0  62.8571428571429           40.99            0.02   \n",
       "3                    30.0  26.6666666666667           49.00            0.06   \n",
       "4                    30.0  36.6666666666667           40.00            0.04   \n",
       "...                   ...               ...             ...             ...   \n",
       "1048568               NaN           #DIV/0!             NaN         #DIV/0!   \n",
       "1048569               NaN           #DIV/0!             NaN         #DIV/0!   \n",
       "1048570               NaN           #DIV/0!             NaN         #DIV/0!   \n",
       "1048571               NaN           #DIV/0!             NaN         #DIV/0!   \n",
       "1048572               NaN           #DIV/0!             NaN         #DIV/0!   \n",
       "\n",
       "        Discounted Super_Restaurant Vegetarian Vegan Gluten_Free  \\\n",
       "0               No               No         No    No          No   \n",
       "1               No               No        Yes    No          No   \n",
       "2              Yes               No        Yes    No          No   \n",
       "3              Yes               No        Yes    No          No   \n",
       "4              Yes              Yes         No    No          No   \n",
       "...            ...              ...        ...   ...         ...   \n",
       "1048568        NaN              NaN        NaN   NaN         NaN   \n",
       "1048569        NaN              NaN        NaN   NaN         NaN   \n",
       "1048570        NaN              NaN        NaN   NaN         NaN   \n",
       "1048571        NaN              NaN        NaN   NaN         NaN   \n",
       "1048572        NaN              NaN        NaN   NaN         NaN   \n",
       "\n",
       "         Distance_From_Universiy_m  \n",
       "0                            900.0  \n",
       "1                            750.0  \n",
       "2                           2200.0  \n",
       "3                            800.0  \n",
       "4                           1100.0  \n",
       "...                            ...  \n",
       "1048568                        NaN  \n",
       "1048569                        NaN  \n",
       "1048570                        NaN  \n",
       "1048571                        NaN  \n",
       "1048572                        NaN  \n",
       "\n",
       "[1048573 rows x 14 columns]"
      ]
     },
     "execution_count": 2,
     "metadata": {},
     "output_type": "execute_result"
    }
   ],
   "source": [
    "df"
   ]
  },
  {
   "cell_type": "code",
   "execution_count": 3,
   "metadata": {},
   "outputs": [
    {
     "data": {
      "text/html": [
       "<div>\n",
       "<style scoped>\n",
       "    .dataframe tbody tr th:only-of-type {\n",
       "        vertical-align: middle;\n",
       "    }\n",
       "\n",
       "    .dataframe tbody tr th {\n",
       "        vertical-align: top;\n",
       "    }\n",
       "\n",
       "    .dataframe thead th {\n",
       "        text-align: right;\n",
       "    }\n",
       "</style>\n",
       "<table border=\"1\" class=\"dataframe\">\n",
       "  <thead>\n",
       "    <tr style=\"text-align: right;\">\n",
       "      <th></th>\n",
       "      <th>Restaurant</th>\n",
       "      <th>Food_Types</th>\n",
       "      <th>Star_Rating</th>\n",
       "      <th>Location</th>\n",
       "      <th>Deliver_Time_Min</th>\n",
       "      <th>Speed_d_t</th>\n",
       "      <th>Minimum_Amount</th>\n",
       "      <th>mPrice_Distance</th>\n",
       "      <th>Discounted</th>\n",
       "      <th>Super_Restaurant</th>\n",
       "      <th>Vegetarian</th>\n",
       "      <th>Vegan</th>\n",
       "      <th>Gluten_Free</th>\n",
       "      <th>Distance_From_Universiy_m</th>\n",
       "    </tr>\n",
       "  </thead>\n",
       "  <tbody>\n",
       "    <tr>\n",
       "      <th>0</th>\n",
       "      <td>McDonald's</td>\n",
       "      <td>Burger</td>\n",
       "      <td>8.4</td>\n",
       "      <td>Sinanpaşa</td>\n",
       "      <td>30.0</td>\n",
       "      <td>30</td>\n",
       "      <td>48.90</td>\n",
       "      <td>0.05</td>\n",
       "      <td>No</td>\n",
       "      <td>No</td>\n",
       "      <td>No</td>\n",
       "      <td>No</td>\n",
       "      <td>No</td>\n",
       "      <td>900.0</td>\n",
       "    </tr>\n",
       "    <tr>\n",
       "      <th>1</th>\n",
       "      <td>KFC</td>\n",
       "      <td>Chicken</td>\n",
       "      <td>8.3</td>\n",
       "      <td>Cihannüma</td>\n",
       "      <td>30.0</td>\n",
       "      <td>25</td>\n",
       "      <td>29.99</td>\n",
       "      <td>0.04</td>\n",
       "      <td>No</td>\n",
       "      <td>No</td>\n",
       "      <td>Yes</td>\n",
       "      <td>No</td>\n",
       "      <td>No</td>\n",
       "      <td>750.0</td>\n",
       "    </tr>\n",
       "    <tr>\n",
       "      <th>2</th>\n",
       "      <td>Adile Sultan Ev Yemekleri</td>\n",
       "      <td>Turkish Cuisine</td>\n",
       "      <td>9.3</td>\n",
       "      <td>Gayrettepe</td>\n",
       "      <td>35.0</td>\n",
       "      <td>62.8571428571429</td>\n",
       "      <td>40.99</td>\n",
       "      <td>0.02</td>\n",
       "      <td>Yes</td>\n",
       "      <td>No</td>\n",
       "      <td>Yes</td>\n",
       "      <td>No</td>\n",
       "      <td>No</td>\n",
       "      <td>2200.0</td>\n",
       "    </tr>\n",
       "    <tr>\n",
       "      <th>3</th>\n",
       "      <td>Burger King</td>\n",
       "      <td>Burger</td>\n",
       "      <td>8.6</td>\n",
       "      <td>Cihannüma</td>\n",
       "      <td>30.0</td>\n",
       "      <td>26.6666666666667</td>\n",
       "      <td>49.00</td>\n",
       "      <td>0.06</td>\n",
       "      <td>Yes</td>\n",
       "      <td>No</td>\n",
       "      <td>Yes</td>\n",
       "      <td>No</td>\n",
       "      <td>No</td>\n",
       "      <td>800.0</td>\n",
       "    </tr>\n",
       "    <tr>\n",
       "      <th>4</th>\n",
       "      <td>Etibeyaz Döner</td>\n",
       "      <td>Turkish Cuisine</td>\n",
       "      <td>8.9</td>\n",
       "      <td>Sinanpaşa</td>\n",
       "      <td>30.0</td>\n",
       "      <td>36.6666666666667</td>\n",
       "      <td>40.00</td>\n",
       "      <td>0.04</td>\n",
       "      <td>Yes</td>\n",
       "      <td>Yes</td>\n",
       "      <td>No</td>\n",
       "      <td>No</td>\n",
       "      <td>No</td>\n",
       "      <td>1100.0</td>\n",
       "    </tr>\n",
       "    <tr>\n",
       "      <th>...</th>\n",
       "      <td>...</td>\n",
       "      <td>...</td>\n",
       "      <td>...</td>\n",
       "      <td>...</td>\n",
       "      <td>...</td>\n",
       "      <td>...</td>\n",
       "      <td>...</td>\n",
       "      <td>...</td>\n",
       "      <td>...</td>\n",
       "      <td>...</td>\n",
       "      <td>...</td>\n",
       "      <td>...</td>\n",
       "      <td>...</td>\n",
       "      <td>...</td>\n",
       "    </tr>\n",
       "    <tr>\n",
       "      <th>1048568</th>\n",
       "      <td>NaN</td>\n",
       "      <td>NaN</td>\n",
       "      <td>NaN</td>\n",
       "      <td>NaN</td>\n",
       "      <td>NaN</td>\n",
       "      <td>#DIV/0!</td>\n",
       "      <td>NaN</td>\n",
       "      <td>#DIV/0!</td>\n",
       "      <td>NaN</td>\n",
       "      <td>NaN</td>\n",
       "      <td>NaN</td>\n",
       "      <td>NaN</td>\n",
       "      <td>NaN</td>\n",
       "      <td>NaN</td>\n",
       "    </tr>\n",
       "    <tr>\n",
       "      <th>1048569</th>\n",
       "      <td>NaN</td>\n",
       "      <td>NaN</td>\n",
       "      <td>NaN</td>\n",
       "      <td>NaN</td>\n",
       "      <td>NaN</td>\n",
       "      <td>#DIV/0!</td>\n",
       "      <td>NaN</td>\n",
       "      <td>#DIV/0!</td>\n",
       "      <td>NaN</td>\n",
       "      <td>NaN</td>\n",
       "      <td>NaN</td>\n",
       "      <td>NaN</td>\n",
       "      <td>NaN</td>\n",
       "      <td>NaN</td>\n",
       "    </tr>\n",
       "    <tr>\n",
       "      <th>1048570</th>\n",
       "      <td>NaN</td>\n",
       "      <td>NaN</td>\n",
       "      <td>NaN</td>\n",
       "      <td>NaN</td>\n",
       "      <td>NaN</td>\n",
       "      <td>#DIV/0!</td>\n",
       "      <td>NaN</td>\n",
       "      <td>#DIV/0!</td>\n",
       "      <td>NaN</td>\n",
       "      <td>NaN</td>\n",
       "      <td>NaN</td>\n",
       "      <td>NaN</td>\n",
       "      <td>NaN</td>\n",
       "      <td>NaN</td>\n",
       "    </tr>\n",
       "    <tr>\n",
       "      <th>1048571</th>\n",
       "      <td>NaN</td>\n",
       "      <td>NaN</td>\n",
       "      <td>NaN</td>\n",
       "      <td>NaN</td>\n",
       "      <td>NaN</td>\n",
       "      <td>#DIV/0!</td>\n",
       "      <td>NaN</td>\n",
       "      <td>#DIV/0!</td>\n",
       "      <td>NaN</td>\n",
       "      <td>NaN</td>\n",
       "      <td>NaN</td>\n",
       "      <td>NaN</td>\n",
       "      <td>NaN</td>\n",
       "      <td>NaN</td>\n",
       "    </tr>\n",
       "    <tr>\n",
       "      <th>1048572</th>\n",
       "      <td>NaN</td>\n",
       "      <td>NaN</td>\n",
       "      <td>NaN</td>\n",
       "      <td>NaN</td>\n",
       "      <td>NaN</td>\n",
       "      <td>#DIV/0!</td>\n",
       "      <td>NaN</td>\n",
       "      <td>#DIV/0!</td>\n",
       "      <td>NaN</td>\n",
       "      <td>NaN</td>\n",
       "      <td>NaN</td>\n",
       "      <td>NaN</td>\n",
       "      <td>NaN</td>\n",
       "      <td>NaN</td>\n",
       "    </tr>\n",
       "  </tbody>\n",
       "</table>\n",
       "<p>1048573 rows × 14 columns</p>\n",
       "</div>"
      ],
      "text/plain": [
       "                        Restaurant       Food_Types  Star_Rating    Location  \\\n",
       "0                       McDonald's           Burger          8.4   Sinanpaşa   \n",
       "1                              KFC          Chicken          8.3   Cihannüma   \n",
       "2        Adile Sultan Ev Yemekleri  Turkish Cuisine          9.3  Gayrettepe   \n",
       "3                      Burger King           Burger          8.6   Cihannüma   \n",
       "4                   Etibeyaz Döner  Turkish Cuisine          8.9   Sinanpaşa   \n",
       "...                            ...              ...          ...         ...   \n",
       "1048568                        NaN              NaN          NaN         NaN   \n",
       "1048569                        NaN              NaN          NaN         NaN   \n",
       "1048570                        NaN              NaN          NaN         NaN   \n",
       "1048571                        NaN              NaN          NaN         NaN   \n",
       "1048572                        NaN              NaN          NaN         NaN   \n",
       "\n",
       "         Deliver_Time_Min         Speed_d_t  Minimum_Amount mPrice_Distance  \\\n",
       "0                    30.0                30           48.90            0.05   \n",
       "1                    30.0                25           29.99            0.04   \n",
       "2                    35.0  62.8571428571429           40.99            0.02   \n",
       "3                    30.0  26.6666666666667           49.00            0.06   \n",
       "4                    30.0  36.6666666666667           40.00            0.04   \n",
       "...                   ...               ...             ...             ...   \n",
       "1048568               NaN           #DIV/0!             NaN         #DIV/0!   \n",
       "1048569               NaN           #DIV/0!             NaN         #DIV/0!   \n",
       "1048570               NaN           #DIV/0!             NaN         #DIV/0!   \n",
       "1048571               NaN           #DIV/0!             NaN         #DIV/0!   \n",
       "1048572               NaN           #DIV/0!             NaN         #DIV/0!   \n",
       "\n",
       "        Discounted Super_Restaurant Vegetarian Vegan Gluten_Free  \\\n",
       "0               No               No         No    No          No   \n",
       "1               No               No        Yes    No          No   \n",
       "2              Yes               No        Yes    No          No   \n",
       "3              Yes               No        Yes    No          No   \n",
       "4              Yes              Yes         No    No          No   \n",
       "...            ...              ...        ...   ...         ...   \n",
       "1048568        NaN              NaN        NaN   NaN         NaN   \n",
       "1048569        NaN              NaN        NaN   NaN         NaN   \n",
       "1048570        NaN              NaN        NaN   NaN         NaN   \n",
       "1048571        NaN              NaN        NaN   NaN         NaN   \n",
       "1048572        NaN              NaN        NaN   NaN         NaN   \n",
       "\n",
       "         Distance_From_Universiy_m  \n",
       "0                            900.0  \n",
       "1                            750.0  \n",
       "2                           2200.0  \n",
       "3                            800.0  \n",
       "4                           1100.0  \n",
       "...                            ...  \n",
       "1048568                        NaN  \n",
       "1048569                        NaN  \n",
       "1048570                        NaN  \n",
       "1048571                        NaN  \n",
       "1048572                        NaN  \n",
       "\n",
       "[1048573 rows x 14 columns]"
      ]
     },
     "execution_count": 3,
     "metadata": {},
     "output_type": "execute_result"
    }
   ],
   "source": [
    "df"
   ]
  },
  {
   "cell_type": "code",
   "execution_count": 4,
   "metadata": {},
   "outputs": [
    {
     "name": "stdout",
     "output_type": "stream",
     "text": [
      "<class 'pandas.core.frame.DataFrame'>\n",
      "RangeIndex: 1048573 entries, 0 to 1048572\n",
      "Data columns (total 14 columns):\n",
      " #   Column                     Non-Null Count    Dtype  \n",
      "---  ------                     --------------    -----  \n",
      " 0   Restaurant                 199 non-null      object \n",
      " 1   Food_Types                 199 non-null      object \n",
      " 2   Star_Rating                199 non-null      float64\n",
      " 3   Location                   199 non-null      object \n",
      " 4   Deliver_Time_Min           199 non-null      float64\n",
      " 5   Speed_d_t                  1048573 non-null  object \n",
      " 6   Minimum_Amount             191 non-null      float64\n",
      " 7   mPrice_Distance            1048573 non-null  object \n",
      " 8   Discounted                 199 non-null      object \n",
      " 9   Super_Restaurant           199 non-null      object \n",
      " 10  Vegetarian                 199 non-null      object \n",
      " 11  Vegan                      199 non-null      object \n",
      " 12  Gluten_Free                199 non-null      object \n",
      " 13  Distance_From_Universiy_m  199 non-null      float64\n",
      "dtypes: float64(4), object(10)\n",
      "memory usage: 112.0+ MB\n"
     ]
    }
   ],
   "source": [
    "df.info()"
   ]
  },
  {
   "cell_type": "code",
   "execution_count": 5,
   "metadata": {},
   "outputs": [],
   "source": [
    "df = df.iloc[:199]"
   ]
  },
  {
   "cell_type": "code",
   "execution_count": 6,
   "metadata": {},
   "outputs": [],
   "source": [
    "df.drop('Restaurant', axis=1, inplace=True)"
   ]
  },
  {
   "cell_type": "code",
   "execution_count": 7,
   "metadata": {},
   "outputs": [
    {
     "data": {
      "text/plain": [
       "Burger                  53\n",
       "Turkish Cuisine         38\n",
       "World Cuisine & Cafe    23\n",
       "Pizza                   21\n",
       "Dessert                 16\n",
       "Patisserie & Bakery     10\n",
       "Toast & Sandwich         9\n",
       "Coffee                   8\n",
       "Far East                 6\n",
       "Chicken                  5\n",
       "Seafood                  2\n",
       "Breakfast & Börek        2\n",
       "Breakfast                2\n",
       "Pasta & Salad            1\n",
       "Pide/Lahmacun            1\n",
       "Ice Cream                1\n",
       "Far East Cuisine         1\n",
       "Name: Food_Types, dtype: int64"
      ]
     },
     "execution_count": 7,
     "metadata": {},
     "output_type": "execute_result"
    }
   ],
   "source": [
    "df['Food_Types'].value_counts()"
   ]
  },
  {
   "cell_type": "code",
   "execution_count": 8,
   "metadata": {},
   "outputs": [
    {
     "data": {
      "text/plain": [
       "array([ 2,  3, 15, 16, 14, 12,  0, 11,  7,  4,  9,  5,  6, 10, 13,  8,  1])"
      ]
     },
     "execution_count": 8,
     "metadata": {},
     "output_type": "execute_result"
    }
   ],
   "source": [
    "label_encoder = preprocessing.LabelEncoder()\n",
    "df['Food_Types']= label_encoder.fit_transform(df['Food_Types'])\n",
    "df['Food_Types'].unique()"
   ]
  },
  {
   "cell_type": "code",
   "execution_count": 9,
   "metadata": {},
   "outputs": [
    {
     "data": {
      "text/plain": [
       "9.2     25\n",
       "9.3     24\n",
       "9.1     22\n",
       "9.4     20\n",
       "8.9      9\n",
       "9.0      9\n",
       "9.5      9\n",
       "8.7      8\n",
       "10.0     7\n",
       "8.6      7\n",
       "8.0      6\n",
       "8.8      5\n",
       "8.5      5\n",
       "9.6      5\n",
       "7.5      4\n",
       "9.9      4\n",
       "8.3      4\n",
       "9.7      3\n",
       "7.7      3\n",
       "6.6      2\n",
       "8.4      2\n",
       "7.8      2\n",
       "5.3      2\n",
       "7.9      2\n",
       "8.2      2\n",
       "5.9      1\n",
       "7.4      1\n",
       "8.1      1\n",
       "7.0      1\n",
       "9.8      1\n",
       "6.3      1\n",
       "2.5      1\n",
       "1.0      1\n",
       "Name: Star_Rating, dtype: int64"
      ]
     },
     "execution_count": 9,
     "metadata": {},
     "output_type": "execute_result"
    }
   ],
   "source": [
    "df['Star_Rating'].value_counts()"
   ]
  },
  {
   "cell_type": "code",
   "execution_count": 10,
   "metadata": {},
   "outputs": [
    {
     "data": {
      "text/plain": [
       "Sinanpaşa       32\n",
       "Türkali         24\n",
       "Teşvikiye       23\n",
       "Cihannüma       20\n",
       "Vişnezade       14\n",
       "Dikilitaş       14\n",
       "Gayrettepe      10\n",
       "Fulya            9\n",
       "Ortaköy          5\n",
       "Şişli            5\n",
       "Esentepe         5\n",
       "Abbasağa         5\n",
       "Yıldız           5\n",
       "Meşrutiyet       4\n",
       "Beyoğlu          3\n",
       "Halaskargazi     2\n",
       "Mecidiyeköy      2\n",
       "Ulus             2\n",
       "Muradiye         2\n",
       "Nisbetiye        2\n",
       "Hoca Paşa        2\n",
       "Akatlar          1\n",
       "Cihangir         1\n",
       "Cumhuriyet       1\n",
       "Reşitpaşa        1\n",
       "Akaretler        1\n",
       "Kağıthane        1\n",
       "Kemerburgaz      1\n",
       "Harbiye          1\n",
       "Gültepe          1\n",
       "Name: Location, dtype: int64"
      ]
     },
     "execution_count": 10,
     "metadata": {},
     "output_type": "execute_result"
    }
   ],
   "source": [
    "df['Location'].value_counts()"
   ]
  },
  {
   "cell_type": "code",
   "execution_count": 11,
   "metadata": {},
   "outputs": [
    {
     "data": {
      "text/plain": [
       "array([23,  5, 10, 12,  7, 25, 19, 21,  9, 28,  0, 24, 27, 17, 26,  1,  8,\n",
       "       18, 29, 13,  3, 20, 16, 14, 15,  2, 22,  6,  4, 11])"
      ]
     },
     "execution_count": 11,
     "metadata": {},
     "output_type": "execute_result"
    }
   ],
   "source": [
    "label_encoder = preprocessing.LabelEncoder()\n",
    "df['Location']= label_encoder.fit_transform(df['Location'])\n",
    "df['Location'].unique()"
   ]
  },
  {
   "cell_type": "code",
   "execution_count": 12,
   "metadata": {},
   "outputs": [
    {
     "data": {
      "text/plain": [
       "30.0    69\n",
       "35.0    49\n",
       "20.0    24\n",
       "40.0    21\n",
       "15.0    20\n",
       "25.0     6\n",
       "45.0     4\n",
       "50.0     4\n",
       "10.0     1\n",
       "55.0     1\n",
       "Name: Deliver_Time_Min, dtype: int64"
      ]
     },
     "execution_count": 12,
     "metadata": {},
     "output_type": "execute_result"
    }
   ],
   "source": [
    "df['Deliver_Time_Min'].value_counts()"
   ]
  },
  {
   "cell_type": "code",
   "execution_count": 13,
   "metadata": {},
   "outputs": [
    {
     "data": {
      "text/plain": [
       "40                  18\n",
       "36.6666666666667    12\n",
       "86.6666666666667     7\n",
       "65.7142857142857     6\n",
       "56.6666666666667     5\n",
       "                    ..\n",
       "85                   1\n",
       "5                    1\n",
       "150                  1\n",
       "124                  1\n",
       "131.111111111111     1\n",
       "Name: Speed_d_t, Length: 83, dtype: int64"
      ]
     },
     "execution_count": 13,
     "metadata": {},
     "output_type": "execute_result"
    }
   ],
   "source": [
    "df['Speed_d_t'].value_counts()\n",
    "#We decided to drop this and 'Distance_From_Universiy_m' because Deliver_Time_Min is calculated from both of them"
   ]
  },
  {
   "cell_type": "code",
   "execution_count": 14,
   "metadata": {},
   "outputs": [
    {
     "data": {
      "text/plain": [
       "35.00     81\n",
       "40.00     22\n",
       "30.00     12\n",
       "50.00     11\n",
       "20.00     10\n",
       "45.00      6\n",
       "120.00     5\n",
       "15.00      4\n",
       "100.00     4\n",
       "25.00      3\n",
       "150.00     3\n",
       "80.00      3\n",
       "70.00      2\n",
       "60.00      2\n",
       "34.00      2\n",
       "9.90       2\n",
       "250.00     2\n",
       "444.00     1\n",
       "90.00      1\n",
       "110.00     1\n",
       "350.00     1\n",
       "99.00      1\n",
       "55.00      1\n",
       "249.00     1\n",
       "95.00      1\n",
       "48.90      1\n",
       "59.00      1\n",
       "29.99      1\n",
       "65.00      1\n",
       "61.80      1\n",
       "24.99      1\n",
       "49.00      1\n",
       "40.99      1\n",
       "500.00     1\n",
       "Name: Minimum_Amount, dtype: int64"
      ]
     },
     "execution_count": 14,
     "metadata": {},
     "output_type": "execute_result"
    }
   ],
   "source": [
    "df['Minimum_Amount'].value_counts()\n",
    "#dropping this column because we believe that it's not important for our target."
   ]
  },
  {
   "cell_type": "code",
   "execution_count": 15,
   "metadata": {},
   "outputs": [],
   "source": [
    "df.drop('Minimum_Amount', axis=1, inplace=True)"
   ]
  },
  {
   "cell_type": "code",
   "execution_count": 16,
   "metadata": {},
   "outputs": [
    {
     "data": {
      "text/plain": [
       "0.02    59\n",
       "0.03    58\n",
       "0.01    30\n",
       "0.04    20\n",
       "0.05    10\n",
       "0.00     9\n",
       "0.08     4\n",
       "0.06     3\n",
       "0.70     2\n",
       "0.23     1\n",
       "0.07     1\n",
       "0.13     1\n",
       "0.17     1\n",
       "Name: mPrice_Distance, dtype: int64"
      ]
     },
     "execution_count": 16,
     "metadata": {},
     "output_type": "execute_result"
    }
   ],
   "source": [
    "df['mPrice_Distance'].value_counts()"
   ]
  },
  {
   "cell_type": "code",
   "execution_count": 17,
   "metadata": {},
   "outputs": [
    {
     "data": {
      "text/plain": [
       "Yes    119\n",
       "No      80\n",
       "Name: Discounted, dtype: int64"
      ]
     },
     "execution_count": 17,
     "metadata": {},
     "output_type": "execute_result"
    }
   ],
   "source": [
    "df['Discounted'].value_counts()"
   ]
  },
  {
   "cell_type": "code",
   "execution_count": 18,
   "metadata": {},
   "outputs": [],
   "source": [
    "df.Discounted.replace(('Yes', 'No'), (1, 0), inplace=True)"
   ]
  },
  {
   "cell_type": "code",
   "execution_count": 19,
   "metadata": {},
   "outputs": [
    {
     "data": {
      "text/plain": [
       "No     164\n",
       "Yes     35\n",
       "Name: Super_Restaurant, dtype: int64"
      ]
     },
     "execution_count": 19,
     "metadata": {},
     "output_type": "execute_result"
    }
   ],
   "source": [
    "df['Super_Restaurant'].value_counts()"
   ]
  },
  {
   "cell_type": "code",
   "execution_count": 20,
   "metadata": {},
   "outputs": [],
   "source": [
    "df.Super_Restaurant.replace(('Yes', 'No'), (1, 0), inplace=True)"
   ]
  },
  {
   "cell_type": "code",
   "execution_count": 21,
   "metadata": {},
   "outputs": [
    {
     "data": {
      "text/plain": [
       "No     118\n",
       "Yes     81\n",
       "Name: Vegetarian, dtype: int64"
      ]
     },
     "execution_count": 21,
     "metadata": {},
     "output_type": "execute_result"
    }
   ],
   "source": [
    "df['Vegetarian'].value_counts()"
   ]
  },
  {
   "cell_type": "code",
   "execution_count": 22,
   "metadata": {},
   "outputs": [],
   "source": [
    "df.Vegetarian.replace(('Yes', 'No'), (1, 0), inplace=True)"
   ]
  },
  {
   "cell_type": "code",
   "execution_count": 23,
   "metadata": {},
   "outputs": [
    {
     "data": {
      "text/plain": [
       "No     170\n",
       "Yes     29\n",
       "Name: Vegan, dtype: int64"
      ]
     },
     "execution_count": 23,
     "metadata": {},
     "output_type": "execute_result"
    }
   ],
   "source": [
    "df['Vegan'].value_counts()"
   ]
  },
  {
   "cell_type": "code",
   "execution_count": 24,
   "metadata": {},
   "outputs": [],
   "source": [
    "df.Vegan.replace(('Yes', 'No'), (1, 0), inplace=True)"
   ]
  },
  {
   "cell_type": "code",
   "execution_count": 25,
   "metadata": {},
   "outputs": [
    {
     "data": {
      "text/plain": [
       "No     190\n",
       "Yes      9\n",
       "Name: Gluten_Free, dtype: int64"
      ]
     },
     "execution_count": 25,
     "metadata": {},
     "output_type": "execute_result"
    }
   ],
   "source": [
    "df['Gluten_Free'].value_counts()"
   ]
  },
  {
   "cell_type": "code",
   "execution_count": 26,
   "metadata": {},
   "outputs": [],
   "source": [
    "df.Gluten_Free.replace(('Yes', 'No'), (1, 0), inplace=True)"
   ]
  },
  {
   "cell_type": "code",
   "execution_count": 27,
   "metadata": {},
   "outputs": [
    {
     "data": {
      "text/plain": [
       "1200.0    26\n",
       "1100.0    19\n",
       "1300.0    14\n",
       "2300.0     9\n",
       "1000.0     8\n",
       "1900.0     7\n",
       "2200.0     7\n",
       "2500.0     7\n",
       "3100.0     6\n",
       "2000.0     6\n",
       "1700.0     6\n",
       "2900.0     6\n",
       "3000.0     5\n",
       "1800.0     5\n",
       "1600.0     5\n",
       "900.0      5\n",
       "2100.0     5\n",
       "1400.0     5\n",
       "2600.0     5\n",
       "2800.0     3\n",
       "850.0      3\n",
       "750.0      3\n",
       "3800.0     2\n",
       "4000.0     2\n",
       "5400.0     2\n",
       "2700.0     2\n",
       "50.0       2\n",
       "1500.0     2\n",
       "950.0      2\n",
       "3500.0     2\n",
       "6300.0     1\n",
       "4500.0     1\n",
       "4600.0     1\n",
       "5200.0     1\n",
       "6900.0     1\n",
       "7100.0     1\n",
       "9800.0     1\n",
       "700.0      1\n",
       "550.0      1\n",
       "260.0      1\n",
       "2400.0     1\n",
       "650.0      1\n",
       "4700.0     1\n",
       "3700.0     1\n",
       "600.0      1\n",
       "150.0      1\n",
       "800.0      1\n",
       "5900.0     1\n",
       "Name: Distance_From_Universiy_m, dtype: int64"
      ]
     },
     "execution_count": 27,
     "metadata": {},
     "output_type": "execute_result"
    }
   ],
   "source": [
    "df['Distance_From_Universiy_m'].value_counts()"
   ]
  },
  {
   "cell_type": "code",
   "execution_count": 28,
   "metadata": {},
   "outputs": [],
   "source": [
    "df = df.dropna()"
   ]
  },
  {
   "cell_type": "code",
   "execution_count": 29,
   "metadata": {},
   "outputs": [],
   "source": [
    "df.drop('Speed_d_t', axis=1, inplace=True)\n",
    "df.drop('Distance_From_Universiy_m', axis=1, inplace=True)"
   ]
  },
  {
   "cell_type": "code",
   "execution_count": 30,
   "metadata": {},
   "outputs": [
    {
     "data": {
      "text/plain": [
       "<AxesSubplot:>"
      ]
     },
     "execution_count": 30,
     "metadata": {},
     "output_type": "execute_result"
    },
    {
     "data": {
      "image/png": "[encoded data removed]",
      "text/plain": [
       "<Figure size 1440x432 with 2 Axes>"
      ]
     },
     "metadata": {
      "needs_background": "light"
     },
     "output_type": "display_data"
    }
   ],
   "source": [
    "plt.figure(figsize=(20,6))\n",
    "sns.heatmap(df.corr(),annot=True,cmap='viridis')"
   ]
  },
  {
   "cell_type": "code",
   "execution_count": 31,
   "metadata": {},
   "outputs": [
    {
     "data": {
      "text/plain": [
       "<AxesSubplot:xlabel='Star_Rating', ylabel='count'>"
      ]
     },
     "execution_count": 31,
     "metadata": {},
     "output_type": "execute_result"
    },
    {
     "data": {
      "image/png": "[encoded data removed]",
      "text/plain": [
       "<Figure size 842.4x595.44 with 1 Axes>"
      ]
     },
     "metadata": {},
     "output_type": "display_data"
    }
   ],
   "source": [
    "sns.set(rc={'figure.figsize':(11.7,8.27)})\n",
    "sns.countplot(x='Star_Rating',hue='Super_Restaurant',data=df,palette='RdBu_r')"
   ]
  },
  {
   "cell_type": "code",
   "execution_count": 32,
   "metadata": {},
   "outputs": [
    {
     "data": {
      "text/plain": [
       "<seaborn.axisgrid.FacetGrid at 0x1fb8e0a86a0>"
      ]
     },
     "execution_count": 32,
     "metadata": {},
     "output_type": "execute_result"
    },
    {
     "data": {
      "image/png": "[encoded data removed]",
      "text/plain": [
       "<Figure size 432x216 with 2 Axes>"
      ]
     },
     "metadata": {},
     "output_type": "display_data"
    }
   ],
   "source": [
    "graph = sns.FacetGrid(df, col='Vegetarian')\n",
    "graph.map(plt.hist, 'Star_Rating', bins=20)"
   ]
  },
  {
   "cell_type": "code",
   "execution_count": 33,
   "metadata": {},
   "outputs": [
    {
     "data": {
      "text/plain": [
       "<AxesSubplot:xlabel='Star_Rating', ylabel='count'>"
      ]
     },
     "execution_count": 33,
     "metadata": {},
     "output_type": "execute_result"
    },
    {
     "data": {
      "image/png": "[encoded data removed]",
      "text/plain": [
       "<Figure size 842.4x595.44 with 1 Axes>"
      ]
     },
     "metadata": {},
     "output_type": "display_data"
    }
   ],
   "source": [
    "sns.set(rc={'figure.figsize':(11.7,8.27)})\n",
    "sns.countplot(x='Star_Rating',hue='Gluten_Free',data=df,palette='husl')"
   ]
  },
  {
   "cell_type": "code",
   "execution_count": 34,
   "metadata": {},
   "outputs": [
    {
     "data": {
      "text/plain": [
       "<AxesSubplot:xlabel='Star_Rating', ylabel='Gluten_Free'>"
      ]
     },
     "execution_count": 34,
     "metadata": {},
     "output_type": "execute_result"
    },
    {
     "data": {
      "image/png": "[encoded data removed]",
      "text/plain": [
       "<Figure size 842.4x595.44 with 1 Axes>"
      ]
     },
     "metadata": {},
     "output_type": "display_data"
    }
   ],
   "source": [
    "sns.boxplot(x='Star_Rating',y='Gluten_Free',data=df)"
   ]
  },
  {
   "cell_type": "code",
   "execution_count": 35,
   "metadata": {},
   "outputs": [
    {
     "data": {
      "text/plain": [
       "Text(0.5, 0, 'Deliver_Time_Min')"
      ]
     },
     "execution_count": 35,
     "metadata": {},
     "output_type": "execute_result"
    },
    {
     "data": {
      "image/png": "[encoded data removed]",
      "text/plain": [
       "<Figure size 842.4x595.44 with 1 Axes>"
      ]
     },
     "metadata": {},
     "output_type": "display_data"
    }
   ],
   "source": [
    "plt.scatter(df['Deliver_Time_Min'],df['Star_Rating'])\n",
    "plt.ylabel('Star_Rating')\n",
    "plt.xlabel('Deliver_Time_Min')"
   ]
  },
  {
   "cell_type": "markdown",
   "metadata": {},
   "source": [
    "# Train Test Split"
   ]
  },
  {
   "cell_type": "code",
   "execution_count": 36,
   "metadata": {},
   "outputs": [
    {
     "name": "stdout",
     "output_type": "stream",
     "text": [
      "<class 'pandas.core.frame.DataFrame'>\n",
      "Int64Index: 199 entries, 0 to 198\n",
      "Data columns (total 10 columns):\n",
      " #   Column            Non-Null Count  Dtype  \n",
      "---  ------            --------------  -----  \n",
      " 0   Food_Types        199 non-null    int32  \n",
      " 1   Star_Rating       199 non-null    float64\n",
      " 2   Location          199 non-null    int32  \n",
      " 3   Deliver_Time_Min  199 non-null    float64\n",
      " 4   mPrice_Distance   199 non-null    object \n",
      " 5   Discounted        199 non-null    int64  \n",
      " 6   Super_Restaurant  199 non-null    int64  \n",
      " 7   Vegetarian        199 non-null    int64  \n",
      " 8   Vegan             199 non-null    int64  \n",
      " 9   Gluten_Free       199 non-null    int64  \n",
      "dtypes: float64(2), int32(2), int64(5), object(1)\n",
      "memory usage: 23.6+ KB\n"
     ]
    }
   ],
   "source": [
    "df.info()"
   ]
  },
  {
   "cell_type": "code",
   "execution_count": 37,
   "metadata": {},
   "outputs": [],
   "source": [
    "y = df.iloc[:, [2]]\n",
    "df.drop('Star_Rating', axis=1, inplace=True)\n",
    "X = df"
   ]
  },
  {
   "cell_type": "code",
   "execution_count": 38,
   "metadata": {},
   "outputs": [],
   "source": [
    "from sklearn.model_selection import train_test_split\n",
    "X_train, X_test, y_train, y_test = train_test_split(X,y,test_size=0.2)"
   ]
  },
  {
   "cell_type": "markdown",
   "metadata": {},
   "source": [
    "# Regression"
   ]
  },
  {
   "cell_type": "code",
   "execution_count": 39,
   "metadata": {},
   "outputs": [
    {
     "name": "stdout",
     "output_type": "stream",
     "text": [
      "Coefficients: \n",
      " [[-1.18358899e-16  1.00000000e+00 -9.10730423e-16 -3.04074918e-15\n",
      "  -4.89716365e-16 -2.64120156e-17  2.69251749e-16  5.15174763e-16\n",
      "  -2.94502088e-16]]\n",
      "\n",
      " Mean squared error: 0.00\n",
      "\n",
      " Coefficient of determination: 1.00\n",
      "\n",
      "\n",
      " Mean Absolute Error: 5.969525557238598e-15\n",
      "\n",
      " Mean Squared Error: 6.87927737249955e-29\n",
      "\n",
      " Root Mean Squared Error: 8.29414092748583e-15\n"
     ]
    }
   ],
   "source": [
    "from sklearn.metrics import mean_squared_error, r2_score\n",
    "from sklearn.linear_model import LinearRegression\n",
    "\n",
    "regr = LinearRegression()\n",
    "regr.fit(X_train, y_train)\n",
    "y_pred = regr.predict(X_test)\n",
    "print(\"Coefficients: \\n\", regr.coef_)\n",
    "print(\"\\n Mean squared error: %.2f\" % mean_squared_error(y_test, y_pred))\n",
    "print(\"\\n Coefficient of determination: %.2f\" % r2_score(y_test, y_pred))\n",
    "\n",
    "from sklearn import metrics\n",
    "print('\\n\\n Mean Absolute Error:', metrics.mean_absolute_error(y_test, y_pred))\n",
    "print('\\n Mean Squared Error:', metrics.mean_squared_error(y_test, y_pred))\n",
    "print('\\n Root Mean Squared Error:', np.sqrt(metrics.mean_squared_error(y_test, y_pred)))"
   ]
  },
  {
   "cell_type": "markdown",
   "metadata": {},
   "source": [
    "# SVR and RandomForestRegressor with GridSearch"
   ]
  },
  {
   "cell_type": "code",
   "execution_count": 40,
   "metadata": {},
   "outputs": [
    {
     "data": {
      "text/plain": [
       "GridSearchCV(cv=5, estimator=SVR(),\n",
       "             param_grid=[{'C': [1, 20, 150, 300], 'epsilon': [0.1, 0.2, 0.3],\n",
       "                          'kernel': ['poly', 'sigmoid'],\n",
       "                          'shrinking': [False, True]}],\n",
       "             return_train_score=True, scoring='neg_mean_squared_error')"
      ]
     },
     "execution_count": 40,
     "metadata": {},
     "output_type": "execute_result"
    }
   ],
   "source": [
    "from sklearn.model_selection import GridSearchCV\n",
    "from sklearn.svm import SVR\n",
    "#Support Vector Regression\n",
    "\n",
    "params = [\n",
    "    {'kernel': ['poly', 'sigmoid'], 'C': [1,20, 150 ,300],\n",
    "     'epsilon': [0.1, 0.2, 0.3], 'shrinking':[False,True]},\n",
    "  ]\n",
    "#Possible parametres for support vector regression, gridsearch will find the best parameteres\n",
    "\n",
    "svr =SVR()\n",
    "grid_search_svr = GridSearchCV(svr, params, cv=5, scoring='neg_mean_squared_error', return_train_score=True)\n",
    "grid_search_svr.fit(X_train,y_train)"
   ]
  },
  {
   "cell_type": "code",
   "execution_count": 41,
   "metadata": {},
   "outputs": [
    {
     "data": {
      "text/plain": [
       "SVR(C=300, epsilon=0.3, kernel='poly')"
      ]
     },
     "execution_count": 41,
     "metadata": {},
     "output_type": "execute_result"
    }
   ],
   "source": [
    "grid_search_svr.best_estimator_"
   ]
  },
  {
   "cell_type": "code",
   "execution_count": 42,
   "metadata": {},
   "outputs": [
    {
     "name": "stdout",
     "output_type": "stream",
     "text": [
      "MAE: 1.1865926285522812\n",
      "r2score: 0.9693440984797556\n"
     ]
    }
   ],
   "source": [
    "best_model = grid_search_svr.best_estimator_\n",
    "from sklearn.metrics import mean_squared_error\n",
    "from sklearn.metrics import mean_absolute_error\n",
    "from sklearn.metrics import r2_score\n",
    "final_predictions = best_model.predict(X_test)\n",
    "\n",
    "#final_mse = mean_squared_error(y_test, final_predictions)\n",
    "#final_rmse = np.sqrt(final_mse)\n",
    "\n",
    "\n",
    "print('MAE: {}'.format(mean_absolute_error(y_test, final_predictions)))\n",
    "print('r2score: {}'.format(r2_score(y_test, final_predictions)))"
   ]
  },
  {
   "cell_type": "code",
   "execution_count": 43,
   "metadata": {},
   "outputs": [
    {
     "data": {
      "text/plain": [
       "GridSearchCV(cv=10, estimator=RandomForestRegressor(random_state=54),\n",
       "             param_grid=[{'max_features': ['auto', 'sqrt', 'log2'],\n",
       "                          'n_estimators': [3, 10, 100]},\n",
       "                         {'bootstrap': [False, True], 'max_features': [2, 3, 4],\n",
       "                          'n_estimators': [3, 10]}],\n",
       "             return_train_score=True, scoring='neg_mean_squared_error')"
      ]
     },
     "execution_count": 43,
     "metadata": {},
     "output_type": "execute_result"
    }
   ],
   "source": [
    "from sklearn.model_selection import GridSearchCV\n",
    "from sklearn.ensemble import RandomForestRegressor\n",
    "\n",
    "params = [\n",
    "    {'n_estimators': [3, 10, 100], 'max_features': [\"auto\", \"sqrt\", \"log2\"]},\n",
    "    {'bootstrap': [False,True], 'n_estimators': [3, 10], 'max_features': [2, 3, 4]},\n",
    "  ]\n",
    "\n",
    "forest_reg = RandomForestRegressor(random_state=54)\n",
    "grid_search_rfr = GridSearchCV(forest_reg, params, cv=10, scoring='neg_mean_squared_error', return_train_score=True)\n",
    "grid_search_rfr.fit(X_train,y_train)"
   ]
  },
  {
   "cell_type": "code",
   "execution_count": 44,
   "metadata": {},
   "outputs": [
    {
     "data": {
      "text/plain": [
       "RandomForestRegressor(random_state=54)"
      ]
     },
     "execution_count": 44,
     "metadata": {},
     "output_type": "execute_result"
    }
   ],
   "source": [
    "grid_search_rfr.best_estimator_"
   ]
  },
  {
   "cell_type": "code",
   "execution_count": 45,
   "metadata": {},
   "outputs": [
    {
     "name": "stdout",
     "output_type": "stream",
     "text": [
      "MAE: 0.07650000000000008\n",
      "r2score: 0.9995174872527024\n"
     ]
    }
   ],
   "source": [
    "best_model = grid_search_rfr.best_estimator_\n",
    "\n",
    "final_predictions = best_model.predict(X_test)\n",
    "\n",
    "final_mse = mean_squared_error(y_test, final_predictions)\n",
    "final_rmse = np.sqrt(final_mse)\n",
    "\n",
    "\n",
    "print('MAE: {}'.format(mean_absolute_error(y_test, final_predictions)))\n",
    "print('r2score: {}'.format(r2_score(y_test, final_predictions)))"
   ]
  }
 ],
 "metadata": {
  "kernelspec": {
   "display_name": "Python 3",
   "language": "python",
   "name": "python3"
  },
  "language_info": {
   "codemirror_mode": {
    "name": "ipython",
    "version": 3
   },
   "file_extension": ".py",
   "mimetype": "text/x-python",
   "name": "python",
   "nbconvert_exporter": "python",
   "pygments_lexer": "ipython3",
   "version": "3.8.5"
  }
 },
 "nbformat": 4,
 "nbformat_minor": 5
}
